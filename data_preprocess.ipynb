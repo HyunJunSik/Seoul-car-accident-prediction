{
 "cells": [
  {
   "cell_type": "code",
   "execution_count": 1,
   "metadata": {},
   "outputs": [],
   "source": [
    "import pandas as pd"
   ]
  },
  {
   "attachments": {},
   "cell_type": "markdown",
   "metadata": {},
   "source": [
    "LINK DATA & POI"
   ]
  },
  {
   "cell_type": "code",
   "execution_count": 25,
   "metadata": {},
   "outputs": [],
   "source": [
    "link_raw_data = pd.read_csv('link_seoul_ver5.csv', encoding='cp949')\n",
    "poi = pd.read_csv('POI.csv', encoding='cp949')"
   ]
  },
  {
   "attachments": {},
   "cell_type": "markdown",
   "metadata": {},
   "source": [
    "Traffic accident Dataset"
   ]
  },
  {
   "cell_type": "code",
   "execution_count": 26,
   "metadata": {},
   "outputs": [],
   "source": [
    "dataset = pd.DataFrame(columns=['datetime', 'lanes', 'limit', 'length', \n",
    "    'bump', 'camera', 'CONV', 'KINDER', 'TRAVEL','SCHOOL','BROKER', 'rain', 'temp', 'humid', 'visibility', 'dew_point', 'cloud', 'vaper_press', 'ground_temp', 'sun_diff_angle', 'sun_elevation'])"
   ]
  },
  {
   "cell_type": "code",
   "execution_count": 45,
   "metadata": {},
   "outputs": [],
   "source": [
    "data = pd.read_csv('seoul_accident_drop.csv', encoding='cp949')\n",
    "dataset['datetime'] = data['발생일시']"
   ]
  },
  {
   "cell_type": "code",
   "execution_count": 5,
   "metadata": {},
   "outputs": [],
   "source": [
    "latitude = data['위도']\n",
    "longitude = data['경도']"
   ]
  },
  {
   "cell_type": "code",
   "execution_count": 6,
   "metadata": {},
   "outputs": [],
   "source": [
    "# 위도 경도 쌍으로 새로운 리스트 생성\n",
    "\n",
    "lat_lon = []\n",
    "for i in range(len(latitude)):\n",
    "    lat_lon.append([longitude[i], latitude[i]])"
   ]
  },
  {
   "attachments": {},
   "cell_type": "markdown",
   "metadata": {},
   "source": [
    "link_mapping 함수 사용하여 위경도 정보를 링크 정보로 받아오기"
   ]
  },
  {
   "cell_type": "code",
   "execution_count": 7,
   "metadata": {},
   "outputs": [],
   "source": [
    "import numpy as np\n",
    "import haversine as hs "
   ]
  },
  {
   "attachments": {},
   "cell_type": "markdown",
   "metadata": {},
   "source": [
    "By link_mapping.py"
   ]
  },
  {
   "cell_type": "code",
   "execution_count": 8,
   "metadata": {},
   "outputs": [
    {
     "name": "stderr",
     "output_type": "stream",
     "text": [
      "C:\\Users\\정현진\\AppData\\Local\\Temp\\ipykernel_7136\\3820450146.py:6: FutureWarning: The default value of regex will change from True to False in a future version. In addition, single character regular expressions will *not* be treated as literal strings when regex=True.\n",
      "  geometry = geometry.str.replace('(','')\n",
      "C:\\Users\\정현진\\AppData\\Local\\Temp\\ipykernel_7136\\3820450146.py:7: FutureWarning: The default value of regex will change from True to False in a future version. In addition, single character regular expressions will *not* be treated as literal strings when regex=True.\n",
      "  geometry = geometry.str.replace(')','')\n"
     ]
    }
   ],
   "source": [
    "df = pd.read_csv('link_seoul_ver3.csv', encoding='cp949')\n",
    "link = df['LINK_ID'].values\n",
    "geometry = df['geometry']\n",
    "\n",
    "geometry = geometry.str.replace('LINESTRING','')\n",
    "geometry = geometry.str.replace('(','')\n",
    "geometry = geometry.str.replace(')','')\n",
    "geometry = geometry.str.replace(' ',',')\n",
    "geometry = geometry.str.replace(',,',',')\n",
    "geometry = geometry.str.split(',')\n",
    "for i in range(len(geometry)):\n",
    "    geometry[i].pop(0)\n",
    "\n",
    "def distance(x1,y1,x2,y2,x3,y3):\n",
    "    if x1 == x2:\n",
    "        m = 0\n",
    "    else:\n",
    "        m = (y2-y1)/(x2-x1)\n",
    "    a = m\n",
    "    b = -1\n",
    "    c = y1 - m*x1\n",
    "    d = abs(a*x3 + b*y3 + c) / np.sqrt(a**2 + b**2)\n",
    "    return d\n",
    "\n",
    "def distance_link(link, geometry, x, y):\n",
    "    d = []\n",
    "    for i in range(0, len(geometry[link]) - 2, 2):\n",
    "        x1 = float(geometry[link][i+1])\n",
    "        y1 = float(geometry[link][i])\n",
    "        x2 = float(geometry[link][i+3])\n",
    "        y2 = float(geometry[link][i+2])\n",
    "        d.append(distance(x1,y1,x2,y2,x,y))\n",
    "    return min(d)\n",
    "\n",
    "def distance_haversine(link, geometry, x, y):\n",
    "    for i in range(len(geometry[link])):\n",
    "        if i % 2 == 0:\n",
    "            x1 = float(geometry[link][i+1])\n",
    "            y1 = float(geometry[link][i])\n",
    "            if hs.haversine((x,y),(x1,y1)) <= 0.3:\n",
    "                return True\n",
    "            else:\n",
    "                continue\n",
    "        else:\n",
    "            continue\n",
    "    \n",
    "\n",
    "def link_haversine(geometry, x, y):\n",
    "    link_haversine = []\n",
    "    for i in range(len(geometry)):\n",
    "        if distance_haversine(i,geometry,x,y) == True:\n",
    "            link_haversine.append(i)\n",
    "    return link_haversine\n",
    "\n",
    "def link_shortest(link_haversine, geometry, x, y):\n",
    "    d = []\n",
    "    for i in range(len(link_haversine)):\n",
    "        d.append(distance_link(link_haversine[i],geometry,x,y))\n",
    "    return link_haversine[d.index(min(d))]\n",
    "\n",
    "\n",
    "def mapping_link(x,y):\n",
    "    linked_haversine = link_haversine(geometry, x, y)\n",
    "    return link_shortest(linked_haversine, geometry, x, y)"
   ]
  },
  {
   "cell_type": "code",
   "execution_count": 4,
   "metadata": {},
   "outputs": [],
   "source": [
    "link_id = []\n",
    "lanes = []\n",
    "limit = []\n",
    "length = []\n",
    "bump = []\n",
    "camera = []"
   ]
  },
  {
   "attachments": {},
   "cell_type": "markdown",
   "metadata": {},
   "source": [
    "For Point of Interest"
   ]
  },
  {
   "cell_type": "code",
   "execution_count": 5,
   "metadata": {},
   "outputs": [],
   "source": [
    "conv = []\n",
    "kinder = []\n",
    "travel = []\n",
    "school = []\n",
    "broker = []\n",
    "# We will use CONv, KINDER, TRAVEL, SCHOOL, BROKER as POI"
   ]
  },
  {
   "attachments": {},
   "cell_type": "markdown",
   "metadata": {},
   "source": [
    "Static feature in Link Info"
   ]
  },
  {
   "cell_type": "code",
   "execution_count": 11,
   "metadata": {},
   "outputs": [],
   "source": [
    "for i in range(len(lat_lon)):\n",
    "    link_result = mapping_link(lat_lon[i][0], lat_lon[i][1])\n",
    "    link_data = link_raw_data.loc[link_result]\n",
    "    link_id.append(link_data['LINK_ID'])\n",
    "    poi_data = poi.loc[link_result]\n",
    "    lanes.append(link_data['LANES'])\n",
    "    limit.append(link_data['MAX_SPD'])\n",
    "    length.append(link_data['LENGTH'])\n",
    "    camera.append(link_data['Speed_Camera'])\n",
    "    bump.append(link_data['BUMP'])\n",
    "    conv.append(poi_data['CONV'])\n",
    "    kinder.append(poi_data['KINDER'])\n",
    "    travel.append(poi_data['TRAVEL'])\n",
    "    school.append(poi_data['SCHOOL'])\n",
    "    broker.append(poi_data['BROKER'])\n",
    "dataset['lanes'] = lanes\n",
    "dataset['limit'] = limit\n",
    "dataset['length'] = length\n",
    "dataset['bump'] = bump\n",
    "dataset['camera'] = camera\n",
    "dataset['CONV'] = conv\n",
    "dataset['KINDER'] = kinder\n",
    "dataset['TRAVEL'] = travel\n",
    "dataset['SCHOOL'] = school\n",
    "dataset['BROKER'] = broker"
   ]
  },
  {
   "attachments": {},
   "cell_type": "markdown",
   "metadata": {},
   "source": [
    "Dynamic Feature in Accident incident Time Info"
   ]
  },
  {
   "attachments": {},
   "cell_type": "markdown",
   "metadata": {},
   "source": [
    "At First, by sun.py -> sun_elevation, sun_diff_angle"
   ]
  },
  {
   "cell_type": "code",
   "execution_count": 46,
   "metadata": {},
   "outputs": [],
   "source": [
    "import math\n",
    "import os.path\n",
    "import numpy as np\n",
    "import pandas as pd\n",
    "from datetime import datetime\n",
    "\n",
    "upper_path = os.getcwd()\n",
    "if upper_path.split(\"\\\\\")[-1] != \"DataManager\":\n",
    "    upper_path = os.path.join(upper_path, \"DataManager\")\n",
    "\n",
    "sun_csv = os.path.join(upper_path, \"Datas\", \"link_seoul_ver4_utf8.csv\")\n",
    "link_df = pd.read_csv(sun_csv, encoding='utf8')\n",
    "\n",
    "def calc_elevation(year=2020, month=1, day=1, hour=0, minute=0):\n",
    "    '''\n",
    "    주어진 시각의 태양 고도를 계산하는 함수입니다.\n",
    "    기본적으로 서울의 위도와 경도를 사용합니다.\n",
    "        Args:\n",
    "            year `int`: 연도\n",
    "            month `int`: 월\n",
    "            day `int`: 일\n",
    "            hour `int`: 시\n",
    "            minute `int`: 분\n",
    "        Return:\n",
    "            elevation `float`: 태양 고도 (0° <= elevation <= 76.122°)\n",
    "    '''\n",
    "    d2r = math.pi / 180.0\n",
    "    r2d = 180.0 / math.pi\n",
    "\n",
    "    local_latitude = 37.378\n",
    "    local_longitude = 127.148\n",
    "    standard_longitude = 135\n",
    "\n",
    "    day_of_year = datetime(year, month, day).timetuple().tm_yday\n",
    "\n",
    "    B = (day_of_year - 1) * 360.0 / 365.0\n",
    "    EOT = 229.2 * (0.000075\n",
    "                   + 0.001868 * math.cos(B * d2r)\n",
    "                   - 0.032077 * math.sin(B * d2r)\n",
    "                   - 0.014615 * math.cos(2 * B * d2r)\n",
    "                   - 0.040849 * math.sin(2 * B * d2r))\n",
    "\n",
    "    # 시간각\n",
    "    local_hour_decimal = hour + minute / 60.0\n",
    "    delta_longitude = local_longitude - standard_longitude\n",
    "    hour_angle = (local_hour_decimal * 60 + 4 * delta_longitude + EOT) / 60 * 15 - 180\n",
    "    if hour_angle < -180:\n",
    "        hour_angle += 360\n",
    "\n",
    "    # 태양 적위\n",
    "    solar_declination = 23.45 * math.sin((360.0 / 365.0 * (284 + day_of_year)) * d2r)\n",
    "\n",
    "    # 태양 고도\n",
    "    term_1 = math.cos(d2r * local_latitude) * math.cos(d2r * solar_declination) * math.cos(d2r * hour_angle) \\\n",
    "             + math.sin(d2r * local_latitude) * math.sin(d2r * solar_declination)\n",
    "    solar_altitude = math.asin(term_1) * r2d\n",
    "\n",
    "    return solar_altitude if solar_altitude > 0 else 0\n",
    "\n",
    "\n",
    "def calc_angle(year=2020, month=1, day=1, hour=0, minute=0, road=0):\n",
    "    '''\n",
    "    주어진 시각의 태양 방위각과 주어진 도로와의 사잇각을 구하는 함수입니다.\n",
    "    좌우 구분 없이 0° ~ 180°의 값을 가집니다.\n",
    "        Args:\n",
    "            year `int`: 연도\n",
    "            month `int`: 월\n",
    "            day `int`: 일\n",
    "            hour `int`: 시\n",
    "            minute `int`: 분\n",
    "            road `int`: 도로 링크 아이디\n",
    "        Return:\n",
    "            azimuth `float`: 태양 방위각 (0° <= azimuth <= 180°)\n",
    "    '''\n",
    "\n",
    "    def calc_solar_azimuth():\n",
    "        d2r = math.pi / 180.0\n",
    "        r2d = 180.0 / math.pi\n",
    "\n",
    "        local_latitude = 37.378\n",
    "        local_longitude = 127.148\n",
    "        standard_longitude = 135\n",
    "\n",
    "        day_of_year = datetime(year, month, day).timetuple().tm_yday\n",
    "\n",
    "        B = (day_of_year - 1) * 360.0 / 365.0\n",
    "        EOT = 229.2 * (0.000075\n",
    "                       + 0.001868 * math.cos(B * d2r)\n",
    "                       - 0.032077 * math.sin(B * d2r)\n",
    "                       - 0.014615 * math.cos(2 * B * d2r)\n",
    "                       - 0.040849 * math.sin(2 * B * d2r))\n",
    "\n",
    "        # 시간각\n",
    "        local_hour_decimal = hour + minute / 60.0\n",
    "        delta_longitude = local_longitude - standard_longitude\n",
    "        hour_angle = (local_hour_decimal * 60 + 4 * delta_longitude + EOT) / 60 * 15 - 180\n",
    "        if hour_angle < -180:\n",
    "            hour_angle += 360\n",
    "\n",
    "        # 태양 적위\n",
    "        solar_declination = 23.45 * math.sin((360.0 / 365.0 * (284 + day_of_year)) * d2r)\n",
    "\n",
    "        # 태양 고도\n",
    "        term_1 = math.cos(d2r * local_latitude) * math.cos(d2r * solar_declination) * math.cos(d2r * hour_angle) \\\n",
    "                 + math.sin(d2r * local_latitude) * math.sin(d2r * solar_declination)\n",
    "        solar_altitude = math.asin(term_1) * r2d\n",
    "\n",
    "        # 태양 방위각\n",
    "        term_2 = (math.sin(d2r * solar_altitude) * math.sin(d2r * local_latitude) - math.sin(d2r * solar_declination)) \\\n",
    "                 / (math.cos(d2r * solar_altitude) * math.cos(d2r * local_latitude))\n",
    "        solar_azimuth = r2d * math.acos(term_2)\n",
    "        solar_azimuth = solar_azimuth if hour_angle > 0 else 360 - solar_azimuth\n",
    "        solar_azimuth = (180.0 + solar_azimuth) % 360.0\n",
    "        return np.array([math.sin(solar_azimuth * d2r), math.cos(solar_azimuth * d2r)])\n",
    "\n",
    "    def get_road_vector():\n",
    "        df = link_df\n",
    "        df = df[['LINK_ID', 'F_NODE', 'T_NODE']]\n",
    "        df = df[df['LINK_ID'] == road]\n",
    "        x0, y0 = map(float, (df['F_NODE'].values[0].split()))\n",
    "        x1, y1 = map(float, (df['T_NODE'].values[0].split()))\n",
    "        vec = np.array([x1 - x0, y1 - y0])\n",
    "        # 정규화\n",
    "        vec = vec / np.linalg.norm(vec)\n",
    "        return vec\n",
    "\n",
    "    solar_vec = calc_solar_azimuth()\n",
    "    road_vec = get_road_vector()\n",
    "    v = np.dot(solar_vec, road_vec) / (np.linalg.norm(solar_vec) * np.linalg.norm(road_vec))\n",
    "    theta = np.arccos(v) * 180 / math.pi\n",
    "    return theta"
   ]
  },
  {
   "cell_type": "code",
   "execution_count": 47,
   "metadata": {},
   "outputs": [],
   "source": [
    "# data에서 발생일시에서 년, 월, 일, 시, 분을 각각 리스트로 추출\n",
    "\n",
    "year = []\n",
    "month = []\n",
    "day = []\n",
    "hour = []\n",
    "minute = []\n",
    "for i in range(len(data)):\n",
    "    year.append(int(data['발생일시'][i][:4]))\n",
    "    month.append(int(data['발생일시'][i][5:7]))\n",
    "    day.append(int(data['발생일시'][i][8:10]))\n",
    "    time = data['발생일시'][i][11:16]\n",
    "    time = time.split(':')\n",
    "    hour.append(int(time[0]))\n",
    "    minute.append(int(time[1]))\n"
   ]
  },
  {
   "cell_type": "code",
   "execution_count": null,
   "metadata": {},
   "outputs": [],
   "source": [
    "sun_ele = []\n",
    "sun_angle = []\n",
    "\n",
    "for i in range(len(data)):\n",
    "    sun_ele.append(calc_elevation(year[i], month[i], day[i], hour[i], minute[i]))\n",
    "    sun_angle.append(calc_angle(year[i], month[i], day[i], hour[i], minute[i], int(link_id[i])))"
   ]
  },
  {
   "cell_type": "code",
   "execution_count": 211,
   "metadata": {},
   "outputs": [],
   "source": [
    "dataset['sun_elevation'] = sun_ele\n",
    "dataset['sun_diff_angle'] = sun_angle"
   ]
  },
  {
   "attachments": {},
   "cell_type": "markdown",
   "metadata": {},
   "source": [
    "Weather feature attachment \n"
   ]
  },
  {
   "cell_type": "code",
   "execution_count": 213,
   "metadata": {},
   "outputs": [],
   "source": [
    "import datetime\n",
    "weather = pd.read_csv('날씨/weather.csv', encoding='cp949')\n",
    "weather = weather.set_index('date')\n",
    "weather.index = pd.to_datetime(weather.index)\n",
    "# year, month, day, hour, minute으로 특정 날짜의 날씨 데이터를 가져오기\n",
    "\n",
    "# print(weather.loc['2020-01-01 8:00']['temp'])"
   ]
  },
  {
   "cell_type": "code",
   "execution_count": 214,
   "metadata": {},
   "outputs": [],
   "source": [
    "rain = []\n",
    "humid = []\n",
    "visibility = []\n",
    "dew_point = []\n",
    "cloud = []\n",
    "vaper_pressure = []\n",
    "ground_temp = []\n",
    "temp = []"
   ]
  },
  {
   "cell_type": "code",
   "execution_count": 215,
   "metadata": {},
   "outputs": [],
   "source": [
    "for i in range(len(data)):\n",
    "    rain.append(weather.loc[f'{year[i]}-{month[i]}-{day[i]} {hour[i]}:00']['rain'])\n",
    "    humid.append(weather.loc[f'{year[i]}-{month[i]}-{day[i]} {hour[i]}:00']['humid'])\n",
    "    visibility.append(weather.loc[f'{year[i]}-{month[i]}-{day[i]} {hour[i]}:00']['visibility'])\n",
    "    dew_point.append(weather.loc[f'{year[i]}-{month[i]}-{day[i]} {hour[i]}:00']['dew_point'])\n",
    "    cloud.append(weather.loc[f'{year[i]}-{month[i]}-{day[i]} {hour[i]}:00']['cloud'])\n",
    "    vaper_pressure.append(weather.loc[f'{year[i]}-{month[i]}-{day[i]} {hour[i]}:00']['vaper_press'])\n",
    "    ground_temp.append(weather.loc[f'{year[i]}-{month[i]}-{day[i]} {hour[i]}:00']['ground_temp'])\n",
    "    temp.append(weather.loc[f'{year[i]}-{month[i]}-{day[i]} {hour[i]}:00']['temp'])"
   ]
  },
  {
   "cell_type": "code",
   "execution_count": 216,
   "metadata": {},
   "outputs": [],
   "source": [
    "dataset['rain'] = rain\n",
    "dataset['humid'] = humid\n",
    "dataset['visibility'] = visibility\n",
    "dataset['dew_point'] = dew_point\n",
    "dataset['cloud'] = cloud\n",
    "dataset['vaper_press'] = vaper_pressure\n",
    "dataset['ground_temp'] = ground_temp\n",
    "dataset['temp'] = temp"
   ]
  },
  {
   "cell_type": "code",
   "execution_count": 218,
   "metadata": {},
   "outputs": [],
   "source": [
    "dataset.to_csv('dataset.csv', index=False)"
   ]
  },
  {
   "attachments": {},
   "cell_type": "markdown",
   "metadata": {},
   "source": [
    "Not-Accident Dataset "
   ]
  },
  {
   "cell_type": "code",
   "execution_count": 9,
   "metadata": {},
   "outputs": [],
   "source": [
    "import pandas as pd"
   ]
  },
  {
   "cell_type": "code",
   "execution_count": 37,
   "metadata": {},
   "outputs": [],
   "source": [
    "link = pd.read_csv('Not_Accident_dataset_link_list.csv', encoding=\"cp949\")\n",
    "link = list(link['link'])\n",
    "link_raw = list(link_raw_data['LINK_ID'])"
   ]
  },
  {
   "cell_type": "code",
   "execution_count": 38,
   "metadata": {},
   "outputs": [],
   "source": [
    "link_idx = []"
   ]
  },
  {
   "cell_type": "code",
   "execution_count": 39,
   "metadata": {},
   "outputs": [],
   "source": [
    "for i in range(len(link)):\n",
    "    link_id = link[i]\n",
    "    for j in range(len(link)):\n",
    "        if link_id == link_raw[j]:\n",
    "            link_idx.append(j)\n",
    "            break"
   ]
  },
  {
   "cell_type": "code",
   "execution_count": 40,
   "metadata": {},
   "outputs": [],
   "source": [
    "lanes = []\n",
    "limit = []\n",
    "length = []\n",
    "bump = []\n",
    "camera = []\n",
    "conv = []\n",
    "kinder = []\n",
    "travel = []\n",
    "school = []\n",
    "broker = []\n",
    "# We will use CONv, KINDER, TRAVEL, SCHOOL, BROKER as POI"
   ]
  },
  {
   "attachments": {},
   "cell_type": "markdown",
   "metadata": {},
   "source": [
    "Static feature in link info(I will use previous dataset DataFrame)"
   ]
  },
  {
   "cell_type": "code",
   "execution_count": 42,
   "metadata": {},
   "outputs": [],
   "source": [
    "for i in range(len(link)):\n",
    "    link_result = link_idx[i]\n",
    "    link_data = link_raw_data.iloc[link_result]\n",
    "    poi_data = poi.loc[link_result]\n",
    "    lanes.append(link_data['LANES'])\n",
    "    limit.append(link_data['MAX_SPD'])\n",
    "    length.append(link_data['LENGTH'])\n",
    "    camera.append(link_data['Speed_Camera'])\n",
    "    bump.append(link_data['BUMP'])\n",
    "    conv.append(poi_data['CONV'])\n",
    "    kinder.append(poi_data['KINDER'])\n",
    "    travel.append(poi_data['TRAVEL'])\n",
    "    school.append(poi_data['SCHOOL'])\n",
    "    broker.append(poi_data['BROKER'])\n",
    "dataset['lanes'] = lanes\n",
    "dataset['limit'] = limit\n",
    "dataset['length'] = length\n",
    "dataset['bump'] = bump\n",
    "dataset['camera'] = camera\n",
    "dataset['CONV'] = conv\n",
    "dataset['KINDER'] = kinder\n",
    "dataset['TRAVEL'] = travel\n",
    "dataset['SCHOOL'] = school\n",
    "dataset['BROKER'] = broker"
   ]
  },
  {
   "cell_type": "code",
   "execution_count": 49,
   "metadata": {},
   "outputs": [],
   "source": [
    "dataset.to_csv('dataset_non_accident.csv', index=False)"
   ]
  }
 ],
 "metadata": {
  "kernelspec": {
   "display_name": "downgrade",
   "language": "python",
   "name": "python3"
  },
  "language_info": {
   "codemirror_mode": {
    "name": "ipython",
    "version": 3
   },
   "file_extension": ".py",
   "mimetype": "text/x-python",
   "name": "python",
   "nbconvert_exporter": "python",
   "pygments_lexer": "ipython3",
   "version": "3.8.15"
  },
  "orig_nbformat": 4,
  "vscode": {
   "interpreter": {
    "hash": "0f95936162900d6ee31f95e4de51eae68caf4da42a90db399afef1fb576d6185"
   }
  }
 },
 "nbformat": 4,
 "nbformat_minor": 2
}
